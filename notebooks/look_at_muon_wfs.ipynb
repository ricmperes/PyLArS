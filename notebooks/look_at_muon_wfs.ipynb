{
 "cells": [
  {
   "cell_type": "markdown",
   "metadata": {},
   "source": [
    "# Look at muon coincidence waveforms\n",
    "\n",
    "> Ricardo, July 2024\n",
    "\n",
    "Make sure you ahve the `xenoscope` environment loaded  with `conda activate xenoscope`. If it is not reachable try runnnng `source /disk/groups/atp/miniconda3/etc/profile.d/conda.sh` (and consider adding it to your `.bashrc`)\n",
    "\n",
    "If you have any problems finding or loading the conda environment ask help to Ricardo ro Jose."
   ]
  },
  {
   "cell_type": "markdown",
   "metadata": {},
   "source": [
    "#### Imports"
   ]
  },
  {
   "cell_type": "code",
   "execution_count": null,
   "metadata": {},
   "outputs": [],
   "source": [
    "import numpy as np\n",
    "import matplotlib.pyplot as plt\n",
    "import pandas as pd\n",
    "import glob\n",
    "from pprint import pprint\n",
    "\n",
    "# Not needed but highly recommended for a curated style\n",
    "plt.style.use('/home/atp/rperes/notebooks/thesis_plots/thesis_style.mplstyle')"
   ]
  },
  {
   "cell_type": "code",
   "execution_count": null,
   "metadata": {},
   "outputs": [],
   "source": [
    "import pylars.analysis.mucoin as mucoin"
   ]
  },
  {
   "cell_type": "markdown",
   "metadata": {},
   "source": [
    "### Check the names of the files"
   ]
  },
  {
   "cell_type": "code",
   "execution_count": null,
   "metadata": {},
   "outputs": [],
   "source": [
    "main_dir = '/disk/gfs_atp/xenoscope/tpc/ramp_up/'\n",
    "\n",
    "files_mucoin = glob.glob(main_dir + 'mucoin*')\n",
    "files_mucoin.sort()\n",
    "pprint(files_mucoin[-5:])"
   ]
  },
  {
   "cell_type": "markdown",
   "metadata": {},
   "source": [
    "### Load the data and plot wfs"
   ]
  },
  {
   "cell_type": "code",
   "execution_count": null,
   "metadata": {},
   "outputs": [],
   "source": [
    "data_dict = mucoin.get_data_dict(n_run=0, # this is irrelevant for mucoin\n",
    "                                 run_name = 'mucoin_20240714_221907',\n",
    "                                 run_period = 'ramp_up',)"
   ]
  },
  {
   "cell_type": "code",
   "execution_count": null,
   "metadata": {},
   "outputs": [],
   "source": [
    "print('Number of wfs in file: ',len(data_dict['mod0']['wf1']))"
   ]
  },
  {
   "cell_type": "markdown",
   "metadata": {},
   "source": [
    "#### Plot one wf"
   ]
  },
  {
   "cell_type": "code",
   "execution_count": null,
   "metadata": {},
   "outputs": [],
   "source": [
    "mucoin.plot_mu_waveform_array_mitpattern(data_dict, n_wf=8, \n",
    "                                         plot = True, \n",
    "                                         limits_peak = (190,230), \n",
    "                                         limits_wf=(0,2000),\n",
    "                                         hitp_var = 'amp',\n",
    "                                         x_unit='time')"
   ]
  },
  {
   "cell_type": "markdown",
   "metadata": {},
   "source": [
    "#### Plot a range of wfs"
   ]
  },
  {
   "cell_type": "code",
   "execution_count": null,
   "metadata": {},
   "outputs": [],
   "source": [
    "for i in range(0, 10):\n",
    "    mucoin.plot_mu_waveform_array_mitpattern(data_dict, n_wf=i, \n",
    "                                             plot = True, \n",
    "                                             limits_peak = (170,230), \n",
    "                                             #limits_wf=(0,800),\n",
    "                                             hitp_var = 'amp')"
   ]
  },
  {
   "cell_type": "code",
   "execution_count": null,
   "metadata": {},
   "outputs": [],
   "source": []
  },
  {
   "cell_type": "markdown",
   "metadata": {},
   "source": [
    "### For rough processing"
   ]
  },
  {
   "cell_type": "code",
   "execution_count": null,
   "metadata": {},
   "outputs": [],
   "source": [
    "# run_id = 0\n",
    "# peaks_list, found_bumps = mucoin.process_file(\n",
    "#     run_id, run_name = 'mucoin_20240708_001021',\n",
    "#     run_period = 'ramp_up',\n",
    "#     plot_wfs=False,\n",
    "#     save_fig=False, #f'12042024_{run_id}',\n",
    "#     limits=[100,300])"
   ]
  },
  {
   "cell_type": "code",
   "execution_count": null,
   "metadata": {},
   "outputs": [],
   "source": []
  }
 ],
 "metadata": {
  "kernelspec": {
   "display_name": "sipms",
   "language": "python",
   "name": "python3"
  },
  "language_info": {
   "codemirror_mode": {
    "name": "ipython",
    "version": 3
   },
   "file_extension": ".py",
   "mimetype": "text/x-python",
   "name": "python",
   "nbconvert_exporter": "python",
   "pygments_lexer": "ipython3",
   "version": "3.10.13"
  }
 },
 "nbformat": 4,
 "nbformat_minor": 2
}
