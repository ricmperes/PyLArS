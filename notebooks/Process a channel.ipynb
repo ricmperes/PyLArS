{
 "cells": [
  {
   "cell_type": "markdown",
   "id": "e1720795",
   "metadata": {},
   "source": [
    "# Processing a run"
   ]
  },
  {
   "cell_type": "code",
   "execution_count": 1,
   "id": "41cea2ba",
   "metadata": {},
   "outputs": [],
   "source": [
    "%load_ext autoreload\n",
    "%autoreload 20"
   ]
  },
  {
   "cell_type": "code",
   "execution_count": 2,
   "id": "94c5b990",
   "metadata": {},
   "outputs": [
    {
     "name": "stderr",
     "output_type": "stream",
     "text": [
      "/home/atp/rperes/software/PyLArS/pylars/processing/rawprocessor.py:6: TqdmExperimentalWarning: Using `tqdm.autonotebook.tqdm` in notebook mode. Use `tqdm.tqdm` instead to force console mode (e.g. in jupyter console)\n",
      "  from tqdm.autonotebook import tqdm\n"
     ]
    }
   ],
   "source": [
    "# standards\n",
    "import numpy as np\n",
    "import pandas as pd\n",
    "import matplotlib.pyplot as plt\n",
    "\n",
    "# the main package\n",
    "import pylars\n",
    "\n",
    "# plot functions\n",
    "from pylars.plotting.plotwaveforms import *\n",
    "from pylars.plotting.plotprocessed import *\n",
    "\n",
    "# specific sub-mudules for waveform and channel processing\n",
    "from pylars.processing.waveforms import *\n",
    "from pylars.processing.pulses import *\n",
    "from pylars.processing.rawprocessor import *"
   ]
  },
  {
   "cell_type": "code",
   "execution_count": 3,
   "id": "83fd73fc",
   "metadata": {},
   "outputs": [],
   "source": [
    "# Create processor\n",
    "process = pylars.processing.rawprocessor.simple_processor(sigma_level=5, \n",
    "                                                          baseline_samples=50,\n",
    "                                                          truncate_wf_left=100,\n",
    "                                                          truncate_wf_right=600)"
   ]
  },
  {
   "cell_type": "code",
   "execution_count": 4,
   "id": "838fd3fe",
   "metadata": {},
   "outputs": [],
   "source": [
    "#Load the raw data into the processor\n",
    "data_path = '/disk/gfs_atp/xenoscope/SiPMs/char_campaign/raw_data/run6/data/BV_185K_50_00V/Module0/BV_185K_50_00V_Module_0_0.root'\n",
    "process.load_raw_data(data_path, 50.0,185, module = 0)"
   ]
  },
  {
   "cell_type": "code",
   "execution_count": 5,
   "id": "d4de9b1b",
   "metadata": {},
   "outputs": [
    {
     "data": {
      "text/plain": [
       "['wf0', 'wf2', 'wf3', 'wf4', 'wf5', 'wf6']"
      ]
     },
     "execution_count": 5,
     "metadata": {},
     "output_type": "execute_result"
    }
   ],
   "source": [
    "process.raw_data.channels"
   ]
  },
  {
   "cell_type": "markdown",
   "id": "3c3a3afe",
   "metadata": {},
   "source": [
    "### Take a look at waveforms"
   ]
  },
  {
   "cell_type": "code",
   "execution_count": 6,
   "id": "6294478c",
   "metadata": {},
   "outputs": [
    {
     "name": "stdout",
     "output_type": "stream",
     "text": [
      "Found 50000 waveforms.\n"
     ]
    }
   ],
   "source": [
    "channel_data = process.raw_data.get_channel_data('wf0')\n",
    "print(f'Found {len(channel_data)} waveforms.')"
   ]
  },
  {
   "cell_type": "code",
   "execution_count": 7,
   "id": "189f89d3",
   "metadata": {},
   "outputs": [
    {
     "data": {
      "text/plain": [
       "(50000, 500)"
      ]
     },
     "execution_count": 7,
     "metadata": {},
     "output_type": "execute_result"
    }
   ],
   "source": [
    "np.shape(channel_data)"
   ]
  },
  {
   "cell_type": "code",
   "execution_count": 8,
   "id": "2e9f263b",
   "metadata": {},
   "outputs": [
    {
     "data": {
      "image/png": "[encoded data removed]",
      "text/plain": [
       "<Figure size 450x150 with 1 Axes>"
      ]
     },
     "metadata": {
      "needs_background": "light"
     },
     "output_type": "display_data"
    }
   ],
   "source": [
    "fig, ax = plt.subplots(1,1,figsize = (15,5), dpi = 30)\n",
    "ax = plot_waveform(channel_data[49999], ax = ax)\n",
    "plt.show()"
   ]
  },
  {
   "cell_type": "markdown",
   "id": "cd03b3f9",
   "metadata": {},
   "source": [
    "### Process by hand"
   ]
  },
  {
   "cell_type": "code",
   "execution_count": 9,
   "id": "f5add96f",
   "metadata": {},
   "outputs": [],
   "source": [
    "_waveform = np.array(channel_data[7])\n",
    "\n",
    "baseline = waveform_processing.get_baseline_rough(_waveform, 50) \n",
    "std = waveform_processing.get_std_rough(_waveform, 50)\n",
    "pks = pulse_processing.find_pulses_simple(_waveform, baseline, std, 5)"
   ]
  },
  {
   "cell_type": "code",
   "execution_count": 10,
   "id": "270170c1",
   "metadata": {},
   "outputs": [],
   "source": [
    "pks = pulse_processing.find_pulses_simple(np.array(channel_data[0]), baseline, std, 2)"
   ]
  },
  {
   "cell_type": "code",
   "execution_count": 11,
   "id": "6d72e915",
   "metadata": {},
   "outputs": [
    {
     "name": "stdout",
     "output_type": "stream",
     "text": [
      "Computed baseline: 15493.5.\n",
      "Computed RMS: 12.956064217191887.\n",
      "Identified pulses: [array([59, 60, 61]), array([111]), array([116]), array([147]), array([180, 181]), array([188]), array([205, 206, 207, 208, 209, 210, 211, 212, 213, 214, 215, 216, 217,\n",
      "       218, 219, 220, 221, 222, 223, 224, 225, 226, 227, 228, 229, 230,\n",
      "       231, 232, 233, 234, 235, 236, 237, 238, 239, 240, 241, 242, 243,\n",
      "       244, 245, 246, 247, 248, 249, 250, 251, 252, 253, 254, 255, 256,\n",
      "       257, 258, 259, 260, 261, 262, 263, 264, 265, 266, 267, 268, 269,\n",
      "       270, 271, 272, 273, 274, 275, 276, 277, 278, 279, 280, 281, 282,\n",
      "       283, 284, 285, 286, 287, 288, 289, 290, 291, 292, 293, 294, 295,\n",
      "       296, 297, 298, 299, 300, 301, 302, 303, 304, 305, 306, 307, 308,\n",
      "       309, 310, 311, 312, 313, 314, 315, 316, 317, 318, 319, 320, 321]), array([326, 327, 328]), array([333, 334, 335, 336, 337, 338, 339, 340, 341, 342, 343, 344, 345,\n",
      "       346, 347, 348, 349, 350, 351, 352, 353, 354, 355, 356, 357, 358,\n",
      "       359]), array([369]), array([373]), array([378, 379]), array([387]), array([391]), array([423]), array([457])]\n"
     ]
    }
   ],
   "source": [
    "_waveform = np.array(channel_data[0])\n",
    "print(f'Computed baseline: {baseline}.\\nComputed RMS: {std}.')\n",
    "print(f'Identified pulses: {pks}')"
   ]
  },
  {
   "cell_type": "code",
   "execution_count": 12,
   "id": "010fe8f9",
   "metadata": {},
   "outputs": [
    {
     "data": {
      "image/png": "[encoded data removed]",
      "text/plain": [
       "<Figure size 450x150 with 1 Axes>"
      ]
     },
     "metadata": {
      "needs_background": "light"
     },
     "output_type": "display_data"
    }
   ],
   "source": [
    "fig, ax = plt.subplots(1,1, figsize = (15,5), dpi = 30)\n",
    "ax = plot_pulses(_waveform, pks, ax = ax)\n",
    "plt.tight_layout()\n",
    "plt.show()"
   ]
  },
  {
   "cell_type": "code",
   "execution_count": 13,
   "id": "fec9c8d8",
   "metadata": {},
   "outputs": [
    {
     "name": "stdout",
     "output_type": "stream",
     "text": [
      "Computed areas: [2425685.   37270.   27400.   41555.]\n",
      "Computed amplitudes: [0.0, 15154.0, 15207.0, 15112.0]\n"
     ]
    }
   ],
   "source": [
    "areas, lengths, positions, amplitudes = waveform_processing.process_waveform(np.array(channel_data[7]), \n",
    "                                                                             process.baseline_samples, \n",
    "                                                                             process.sigma_level)\n",
    "print(f'Computed areas: {areas}\\nComputed amplitudes: {amplitudes}')"
   ]
  },
  {
   "cell_type": "markdown",
   "id": "f6d7a456",
   "metadata": {},
   "source": [
    "### Full channel"
   ]
  },
  {
   "cell_type": "code",
   "execution_count": 14,
   "id": "aacd7b6d",
   "metadata": {
    "scrolled": true
   },
   "outputs": [
    {
     "data": {
      "application/vnd.jupyter.widget-view+json": {
       "model_id": "7d540866ae7c4ac7bf9126b010d46f24",
       "version_major": 2,
       "version_minor": 0
      },
      "text/plain": [
       "Processing module 0 channel wf0:   0%|          | 0/50000 [00:00<?, ?it/s]"
      ]
     },
     "metadata": {},
     "output_type": "display_data"
    }
   ],
   "source": [
    "results_ch0 = pd.DataFrame(process.process_channel('wf0'))"
   ]
  },
  {
   "cell_type": "code",
   "execution_count": 15,
   "id": "7d7b51f6",
   "metadata": {},
   "outputs": [
    {
     "data": {
      "text/html": [
       "<div>\n",
       "<style scoped>\n",
       "    .dataframe tbody tr th:only-of-type {\n",
       "        vertical-align: middle;\n",
       "    }\n",
       "\n",
       "    .dataframe tbody tr th {\n",
       "        vertical-align: top;\n",
       "    }\n",
       "\n",
       "    .dataframe thead th {\n",
       "        text-align: right;\n",
       "    }\n",
       "</style>\n",
       "<table border=\"1\" class=\"dataframe\">\n",
       "  <thead>\n",
       "    <tr style=\"text-align: right;\">\n",
       "      <th></th>\n",
       "      <th>module</th>\n",
       "      <th>channel</th>\n",
       "      <th>wf_number</th>\n",
       "      <th>pulse_number</th>\n",
       "      <th>n_pulses</th>\n",
       "      <th>area</th>\n",
       "      <th>length</th>\n",
       "      <th>position</th>\n",
       "      <th>amplitude</th>\n",
       "    </tr>\n",
       "  </thead>\n",
       "  <tbody>\n",
       "    <tr>\n",
       "      <th>0</th>\n",
       "      <td>0</td>\n",
       "      <td>wf0</td>\n",
       "      <td>0</td>\n",
       "      <td>0</td>\n",
       "      <td>5</td>\n",
       "      <td>2679340.0</td>\n",
       "      <td>103</td>\n",
       "      <td>205</td>\n",
       "      <td>0.0</td>\n",
       "    </tr>\n",
       "    <tr>\n",
       "      <th>1</th>\n",
       "      <td>0</td>\n",
       "      <td>wf0</td>\n",
       "      <td>0</td>\n",
       "      <td>1</td>\n",
       "      <td>5</td>\n",
       "      <td>2420.0</td>\n",
       "      <td>5</td>\n",
       "      <td>310</td>\n",
       "      <td>15422.0</td>\n",
       "    </tr>\n",
       "    <tr>\n",
       "      <th>2</th>\n",
       "      <td>0</td>\n",
       "      <td>wf0</td>\n",
       "      <td>0</td>\n",
       "      <td>2</td>\n",
       "      <td>5</td>\n",
       "      <td>-0.0</td>\n",
       "      <td>1</td>\n",
       "      <td>320</td>\n",
       "      <td>15489.0</td>\n",
       "    </tr>\n",
       "    <tr>\n",
       "      <th>3</th>\n",
       "      <td>0</td>\n",
       "      <td>wf0</td>\n",
       "      <td>0</td>\n",
       "      <td>3</td>\n",
       "      <td>5</td>\n",
       "      <td>30260.0</td>\n",
       "      <td>21</td>\n",
       "      <td>336</td>\n",
       "      <td>15194.0</td>\n",
       "    </tr>\n",
       "    <tr>\n",
       "      <th>4</th>\n",
       "      <td>0</td>\n",
       "      <td>wf0</td>\n",
       "      <td>0</td>\n",
       "      <td>4</td>\n",
       "      <td>5</td>\n",
       "      <td>-0.0</td>\n",
       "      <td>1</td>\n",
       "      <td>378</td>\n",
       "      <td>15489.0</td>\n",
       "    </tr>\n",
       "  </tbody>\n",
       "</table>\n",
       "</div>"
      ],
      "text/plain": [
       "   module channel  wf_number  pulse_number  n_pulses       area  length  \\\n",
       "0       0     wf0          0             0         5  2679340.0     103   \n",
       "1       0     wf0          0             1         5     2420.0       5   \n",
       "2       0     wf0          0             2         5       -0.0       1   \n",
       "3       0     wf0          0             3         5    30260.0      21   \n",
       "4       0     wf0          0             4         5       -0.0       1   \n",
       "\n",
       "   position  amplitude  \n",
       "0       205        0.0  \n",
       "1       310    15422.0  \n",
       "2       320    15489.0  \n",
       "3       336    15194.0  \n",
       "4       378    15489.0  "
      ]
     },
     "execution_count": 15,
     "metadata": {},
     "output_type": "execute_result"
    }
   ],
   "source": [
    "results_ch0.head()"
   ]
  },
  {
   "cell_type": "code",
   "execution_count": 16,
   "id": "6b328b51",
   "metadata": {},
   "outputs": [
    {
     "data": {
      "image/png": "[encoded data removed]",
      "text/plain": [
       "<Figure size 450x150 with 3 Axes>"
      ]
     },
     "metadata": {
      "needs_background": "light"
     },
     "output_type": "display_data"
    }
   ],
   "source": [
    "fig, axs = plt.subplots(1,3, figsize = (15,5), dpi = 30)\n",
    "plot_3hists(results_ch0, axs = axs)\n",
    "plt.tight_layout()\n",
    "plt.show()"
   ]
  },
  {
   "cell_type": "code",
   "execution_count": 17,
   "id": "3b8e0399",
   "metadata": {},
   "outputs": [
    {
     "data": {
      "image/png": "[encoded data removed]",
      "text/plain": [
       "<Figure size 300x150 with 1 Axes>"
      ]
     },
     "metadata": {
      "needs_background": "light"
     },
     "output_type": "display_data"
    }
   ],
   "source": [
    "fig, ax = plt.subplots(1,1, figsize = (10,5), dpi = 30)\n",
    "ax = plot_hist_area(results_ch0,ax = ax)\n",
    "\n",
    "ax.set_yscale('log')\n",
    "plt.show()"
   ]
  },
  {
   "cell_type": "code",
   "execution_count": 18,
   "id": "d8d80ffa",
   "metadata": {},
   "outputs": [
    {
     "data": {
      "image/png": "[encoded data removed]",
      "text/plain": [
       "<Figure size 300x150 with 1 Axes>"
      ]
     },
     "metadata": {
      "needs_background": "light"
     },
     "output_type": "display_data"
    }
   ],
   "source": [
    "## Is it a fingerplot of afterpulses on the left?\n",
    "cut_mask = ((results_ch0['length'] > 7) &\n",
    "            (results_ch0['length'] < 30) &\n",
    "            (results_ch0['area'] < 0.5e6)\n",
    "#             (results_ch0['position'] > 280) &\n",
    "#             (results_ch0['position'] < 400)\n",
    "           )\n",
    "\n",
    "fig, ax = plt.subplots(1,1, figsize = (10,5), dpi = 30)\n",
    "ax = plot_hist_area(results_ch0[cut_mask],ax = ax)\n",
    "\n",
    "ax.set_yscale('log')\n",
    "plt.show()"
   ]
  },
  {
   "cell_type": "code",
   "execution_count": null,
   "id": "678bd2e4",
   "metadata": {},
   "outputs": [],
   "source": []
  }
 ],
 "metadata": {
  "kernelspec": {
   "display_name": "Python 3 (ipykernel)",
   "language": "python",
   "name": "python3"
  },
  "language_info": {
   "codemirror_mode": {
    "name": "ipython",
    "version": 3
   },
   "file_extension": ".py",
   "mimetype": "text/x-python",
   "name": "python",
   "nbconvert_exporter": "python",
   "pygments_lexer": "ipython3",
   "version": "3.8.13"
  }
 },
 "nbformat": 4,
 "nbformat_minor": 5
}
