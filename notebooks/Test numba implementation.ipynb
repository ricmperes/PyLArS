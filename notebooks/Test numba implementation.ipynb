{
 "cells": [
  {
   "cell_type": "markdown",
   "id": "8756ce0b",
   "metadata": {},
   "source": [
    "# Tests with implemting numba to some of the processing functions\n",
    "\n",
    "> Ricardo Peres, 26.07.2022\n",
    "\n",
    "Numba: A High Performance Python Compiler: https://numba.pydata.org\n",
    " \n",
    "\n"
   ]
  },
  {
   "cell_type": "code",
   "execution_count": 1,
   "id": "f4afd7a1",
   "metadata": {},
   "outputs": [
    {
     "name": "stderr",
     "output_type": "stream",
     "text": [
      "/home/atp/rperes/software/PyLArS/pylars/processing/rawprocessor.py:3: TqdmExperimentalWarning: Using `tqdm.tqdm` in notebook mode. Use `tqdm.tqdm` instead to force console mode (e.g. in jupyter console)\n",
      "  from tqdm import tqdm\n"
     ]
    }
   ],
   "source": [
    "import numba\n",
    "import numpy as np\n",
    "\n",
    "import pylars\n",
    "from pylars.processing.waveforms import waveform_processing\n",
    "from pylars.processing.pulses import pulse_processing"
   ]
  },
  {
   "cell_type": "markdown",
   "id": "42f35064",
   "metadata": {},
   "source": [
    "#### Fire up a processor and get waveforms"
   ]
  },
  {
   "cell_type": "code",
   "execution_count": 2,
   "id": "825b221d",
   "metadata": {},
   "outputs": [],
   "source": [
    "process = pylars.processing.rawprocessor.simple_processor(sigma_level=2, baseline_samples=50)\n",
    "data_path = '/disk/gfs_atp/xenoscope/SiPMs/char_campaign/raw_data/run6/room_temp_21072022/LED_ON_300K_51_0V/Module0/LED_ON_300K_51_0V_Module_0_0.root'\n",
    "process.load_raw_data(data_path, V = 49,T = 300, module = 0)"
   ]
  },
  {
   "cell_type": "code",
   "execution_count": 3,
   "id": "86b0a99d",
   "metadata": {},
   "outputs": [],
   "source": [
    "channel_data = process.raw_data.get_channel_data('wf0')\n",
    "baseline = waveform_processing.get_baseline_rough(channel_data[0], 50)\n",
    "std = waveform_processing.get_std_rough(channel_data[0], 50)\n",
    "pks = pulse_processing.find_pulses_simple(np.array(channel_data[0]), baseline, std, 2)"
   ]
  },
  {
   "cell_type": "markdown",
   "id": "01604ff4",
   "metadata": {},
   "source": [
    "## Test area functions"
   ]
  },
  {
   "cell_type": "code",
   "execution_count": 4,
   "id": "b45892cf",
   "metadata": {},
   "outputs": [],
   "source": [
    "def get_area(waveform: np.ndarray, baseline_value: float,\n",
    "             pulse_start: int, pulse_end: int, dt: int = 10) -> float:\n",
    "    \"\"\"Get area of a single identified pulse in a waveform.\n",
    "\n",
    "    Args:\n",
    "        waveform (_type_): _description_\n",
    "        baseline_value (float): _description_\n",
    "        pulse_start (int): _description_\n",
    "        pulse_end (int): _description_\n",
    "        dt (int, optional): _description_. Defaults to 10.\n",
    "\n",
    "    Returns:\n",
    "        _type_: _description_\n",
    "    \"\"\"\n",
    "    pulse_wf = waveform[pulse_start:pulse_end]\n",
    "    area_under = np.sum(baseline_value - pulse_wf) * 10\n",
    "    return area_under\n",
    "\n",
    "@numba.njit\n",
    "def get_area_numba(waveform: np.ndarray, baseline_value: float,\n",
    "             pulse_start: int, pulse_end: int, dt: int = 10) -> float:\n",
    "    \"\"\"Get area of a single identified pulse in a waveform.\n",
    "\n",
    "    Args:\n",
    "        waveform (_type_): _description_\n",
    "        baseline_value (float): _description_\n",
    "        pulse_start (int): _description_\n",
    "        pulse_end (int): _description_\n",
    "        dt (int, optional): _description_. Defaults to 10.\n",
    "\n",
    "    Returns:\n",
    "        _type_: _description_\n",
    "    \"\"\"\n",
    "    pulse_wf = waveform[pulse_start:pulse_end]\n",
    "    area_under = np.sum(baseline_value - pulse_wf) * 10\n",
    "    return area_under"
   ]
  },
  {
   "cell_type": "code",
   "execution_count": 5,
   "id": "bb251d12",
   "metadata": {},
   "outputs": [],
   "source": [
    "_pulse = pks[0]\n",
    "_waveform = np.array(channel_data[0])"
   ]
  },
  {
   "cell_type": "code",
   "execution_count": 6,
   "id": "1a5aab33",
   "metadata": {},
   "outputs": [
    {
     "name": "stdout",
     "output_type": "stream",
     "text": [
      "5.52 µs ± 24.9 ns per loop (mean ± std. dev. of 7 runs, 100,000 loops each)\n"
     ]
    }
   ],
   "source": [
    "%%timeit\n",
    "get_area(_waveform, baseline, _pulse[0], _pulse[-1])"
   ]
  },
  {
   "cell_type": "code",
   "execution_count": 7,
   "id": "3b6d1e98",
   "metadata": {},
   "outputs": [
    {
     "name": "stdout",
     "output_type": "stream",
     "text": [
      "767 ns ± 1.41 ns per loop (mean ± std. dev. of 7 runs, 1,000,000 loops each)\n"
     ]
    }
   ],
   "source": [
    "%%timeit\n",
    "get_area_numba(_waveform, baseline, _pulse[0], _pulse[-1])"
   ]
  },
  {
   "cell_type": "code",
   "execution_count": 8,
   "id": "e9d3e9a8",
   "metadata": {},
   "outputs": [],
   "source": [
    "def get_all_areas_normal(waveform: np.ndarray, pulses: np.ndarray, baseline_value: float) -> np.ndarray:\n",
    "    \"\"\"Compute the areas of all the pulses in a waveform.\n",
    "    TO DO: use np.apply_along_axis or similar and see if\n",
    "    there is speed improvement.\n",
    "    \"\"\"\n",
    "    areas = np.zeros(len(pulses))\n",
    "    for i, _pulse in enumerate(pulses):\n",
    "        areas[i] = get_area(waveform, baseline_value, _pulse[0], _pulse[-1])\n",
    "    return areas\n",
    "\n",
    "def get_all_areas_list(waveform: np.ndarray, pulses: np.ndarray, baseline_value: float) -> list:\n",
    "    \"\"\"Compute the areas of all the pulses in a waveform.\n",
    "    TO DO: use np.apply_along_axis or similar and see if\n",
    "    there is speed improvement.\n",
    "    \"\"\"\n",
    "\n",
    "    areas = [get_area(waveform, baseline_value, _pulse[0], _pulse[-1]) for _pulse in pulses]\n",
    "\n",
    "    return areas\n",
    "\n",
    "def get_all_areas_numba(waveform: np.ndarray, pulses: np.ndarray, baseline_value: float) -> np.ndarray:\n",
    "    \"\"\"Compute the areas of all the pulses in a waveform.\n",
    "    TO DO: use np.apply_along_axis or similar and see if\n",
    "    there is speed improvement.\n",
    "    \"\"\"\n",
    "    areas = np.zeros(len(pulses))\n",
    "    for i, _pulse in enumerate(pulses):\n",
    "        areas[i] = get_area_numba(waveform, baseline_value, _pulse[0], _pulse[-1])\n",
    "    return areas\n"
   ]
  },
  {
   "cell_type": "code",
   "execution_count": 9,
   "id": "bdbab45b",
   "metadata": {},
   "outputs": [
    {
     "name": "stdout",
     "output_type": "stream",
     "text": [
      "23.6 µs ± 279 ns per loop (mean ± std. dev. of 7 runs, 10,000 loops each)\n"
     ]
    }
   ],
   "source": [
    "%%timeit\n",
    "areas = get_all_areas_normal(_waveform, pks, baseline)"
   ]
  },
  {
   "cell_type": "code",
   "execution_count": 10,
   "id": "0b73f4bd",
   "metadata": {},
   "outputs": [
    {
     "name": "stdout",
     "output_type": "stream",
     "text": [
      "22.5 µs ± 1.17 µs per loop (mean ± std. dev. of 7 runs, 10,000 loops each)\n"
     ]
    }
   ],
   "source": [
    "%%timeit\n",
    "areas = get_all_areas_list(_waveform, pks, baseline)"
   ]
  },
  {
   "cell_type": "code",
   "execution_count": 11,
   "id": "9b453beb",
   "metadata": {},
   "outputs": [
    {
     "name": "stdout",
     "output_type": "stream",
     "text": [
      "3.27 µs ± 18.7 ns per loop (mean ± std. dev. of 7 runs, 100,000 loops each)\n"
     ]
    }
   ],
   "source": [
    "%%timeit\n",
    "areas = get_all_areas_numba(_waveform, pks, baseline)"
   ]
  },
  {
   "cell_type": "markdown",
   "id": "676ca474",
   "metadata": {},
   "source": [
    "## Lengths"
   ]
  },
  {
   "cell_type": "code",
   "execution_count": 12,
   "id": "e3ac7d38",
   "metadata": {},
   "outputs": [],
   "source": [
    "def get_all_lengths(pulses: list) -> list:\n",
    "    \"\"\"Compute the lengths of all the pulses in a waveform.\n",
    "    \"\"\"\n",
    "    lengths = [len(_pulse) for _pulse in pulses]\n",
    "    return lengths\n",
    "\n",
    "@numba.njit\n",
    "def get_all_lengths_numba(pulses: list) -> list:\n",
    "    \"\"\"Compute the lengths of all the pulses in a waveform.\n",
    "    \"\"\"\n",
    "    lengths = [len(_pulse) for _pulse in pulses]\n",
    "    return lengths"
   ]
  },
  {
   "cell_type": "code",
   "execution_count": 13,
   "id": "a39842aa",
   "metadata": {},
   "outputs": [
    {
     "name": "stdout",
     "output_type": "stream",
     "text": [
      "265 ns ± 0.534 ns per loop (mean ± std. dev. of 7 runs, 1,000,000 loops each)\n"
     ]
    }
   ],
   "source": [
    "%%timeit\n",
    "get_all_lengths(pks)"
   ]
  },
  {
   "cell_type": "code",
   "execution_count": 14,
   "id": "ae894dfc",
   "metadata": {},
   "outputs": [
    {
     "name": "stderr",
     "output_type": "stream",
     "text": [
      "/disk/groups/atp/miniconda3/envs/sipms/lib/python3.8/site-packages/numba/core/ir_utils.py:2152: NumbaPendingDeprecationWarning: \n",
      "Encountered the use of a type that is scheduled for deprecation: type 'reflected list' found for argument 'pulses' of function 'get_all_lengths_numba'.\n",
      "\n",
      "For more information visit https://numba.readthedocs.io/en/stable/reference/deprecation.html#deprecation-of-reflection-for-list-and-set-types\n",
      "\n",
      "File \"../../../../../../tmp/ipykernel_73818/3553281082.py\", line 7:\n",
      "<source missing, REPL/exec in use?>\n",
      "\n",
      "  warnings.warn(NumbaPendingDeprecationWarning(msg, loc=loc))\n"
     ]
    },
    {
     "name": "stdout",
     "output_type": "stream",
     "text": [
      "28.9 µs ± 72.6 ns per loop (mean ± std. dev. of 7 runs, 10,000 loops each)\n"
     ]
    }
   ],
   "source": [
    "%%timeit\n",
    "get_all_lengths_numba(pks)"
   ]
  },
  {
   "cell_type": "markdown",
   "id": "755bebc4",
   "metadata": {},
   "source": [
    "## Positions"
   ]
  },
  {
   "cell_type": "code",
   "execution_count": 15,
   "id": "a7ccc283",
   "metadata": {},
   "outputs": [],
   "source": [
    "def get_all_positions(pulses: list) -> list:\n",
    "    \"\"\"Calcultes the initial position of the identified pulse\n",
    "    in number of samples.\n",
    "\n",
    "    Args:\n",
    "        pulses (_type_): array of identified pulses.\n",
    "\n",
    "    Returns:\n",
    "        _type_: list of positions of pulses.\n",
    "    \"\"\"\n",
    "    positions = [_pulse[0] for _pulse in pulses]\n",
    "    return positions\n",
    "\n",
    "from numba.typed import List\n",
    "\n",
    "@numba.njit\n",
    "def get_all_positions_numba(pulses: list) -> list:\n",
    "    \"\"\"Calcultes the initial position of the identified pulse\n",
    "    in number of samples.\n",
    "\n",
    "    Args:\n",
    "        pulses (_type_): array of identified pulses.\n",
    "\n",
    "    Returns:\n",
    "        _type_: list of positions of pulses.\n",
    "    \"\"\"\n",
    "    positions = List()\n",
    "    [positions.append(_pulse[0]) for _pulse in pulses]\n",
    "    return positions"
   ]
  },
  {
   "cell_type": "code",
   "execution_count": 16,
   "id": "b1b27417",
   "metadata": {},
   "outputs": [
    {
     "name": "stdout",
     "output_type": "stream",
     "text": [
      "408 ns ± 0.599 ns per loop (mean ± std. dev. of 7 runs, 1,000,000 loops each)\n"
     ]
    }
   ],
   "source": [
    "%%timeit\n",
    "pos = get_all_positions(pks)"
   ]
  },
  {
   "cell_type": "code",
   "execution_count": 17,
   "id": "433e05d3",
   "metadata": {},
   "outputs": [
    {
     "name": "stderr",
     "output_type": "stream",
     "text": [
      "/disk/groups/atp/miniconda3/envs/sipms/lib/python3.8/site-packages/numba/core/ir_utils.py:2152: NumbaPendingDeprecationWarning: \n",
      "Encountered the use of a type that is scheduled for deprecation: type 'reflected list' found for argument 'pulses' of function 'get_all_positions_numba'.\n",
      "\n",
      "For more information visit https://numba.readthedocs.io/en/stable/reference/deprecation.html#deprecation-of-reflection-for-list-and-set-types\n",
      "\n",
      "File \"../../../../../../tmp/ipykernel_73818/1025727561.py\", line 16:\n",
      "<source missing, REPL/exec in use?>\n",
      "\n",
      "  warnings.warn(NumbaPendingDeprecationWarning(msg, loc=loc))\n"
     ]
    },
    {
     "name": "stdout",
     "output_type": "stream",
     "text": [
      "44.8 µs ± 19.3 µs per loop (mean ± std. dev. of 7 runs, 1 loop each)\n"
     ]
    }
   ],
   "source": [
    "%%timeit\n",
    "pos_numba = get_all_positions_numba(pks)"
   ]
  },
  {
   "cell_type": "markdown",
   "id": "c860e0e9",
   "metadata": {},
   "source": [
    "## Split pulses"
   ]
  },
  {
   "cell_type": "code",
   "execution_count": 18,
   "id": "f9fee4fc",
   "metadata": {},
   "outputs": [],
   "source": [
    "def split_consecutive_normal(array: np.array, stepsize: int = 1):\n",
    "    split_index = np.where(np.diff(array) != stepsize)[0] + 1\n",
    "    split_array = np.split(array, split_index)\n",
    "    return split_array\n",
    "\n",
    "@numba.njit\n",
    "def split_consecutive_numba(array: np.array, stepsize: int = 1):\n",
    "    split_index = np.where(np.diff(array) != stepsize)[0] + 1\n",
    "    split_array = np.split(array, split_index)\n",
    "    return split_array\n",
    "\n",
    "def split_consecutive_kindapython(array: np.array, stepsize: int = 1):\n",
    "    split_list = list()\n",
    "    _running_list = list()\n",
    "    for i, index_number_from_waveform in enumerate(array):\n",
    "        if i==(len(array)-1):\n",
    "            if index_number_from_waveform ==array[i-1]+1:\n",
    "                _running_list.append(index_number_from_waveform)\n",
    "                split_list.append(_running_list)\n",
    "            else:\n",
    "                split_list.append([index_number_from_waveform])\n",
    "            break\n",
    "        if index_number_from_waveform == (array[i+1]-1):\n",
    "            _running_list.append(index_number_from_waveform)\n",
    "        else:\n",
    "            _running_list.append(index_number_from_waveform)\n",
    "            split_list.append(_running_list)\n",
    "            _running_list = list()\n",
    "#    split_index = np.where(np.diff(array) != stepsize)[0] + 1\n",
    "#    split_array = np.split(array, split_index)\n",
    "    return split_list"
   ]
  },
  {
   "cell_type": "code",
   "execution_count": 19,
   "id": "438af08a",
   "metadata": {},
   "outputs": [],
   "source": [
    "bellow_baseline = np.where(_waveform < (baseline - std*1.5))[0]"
   ]
  },
  {
   "cell_type": "code",
   "execution_count": 20,
   "id": "7fbd7329",
   "metadata": {},
   "outputs": [
    {
     "name": "stdout",
     "output_type": "stream",
     "text": [
      "25.4 µs ± 55.7 ns per loop (mean ± std. dev. of 7 runs, 10,000 loops each)\n"
     ]
    }
   ],
   "source": [
    "%%timeit\n",
    "split_array = split_consecutive_normal(bellow_baseline)"
   ]
  },
  {
   "cell_type": "code",
   "execution_count": 21,
   "id": "40a64c9d",
   "metadata": {},
   "outputs": [
    {
     "name": "stdout",
     "output_type": "stream",
     "text": [
      "75.2 µs ± 33.9 µs per loop (mean ± std. dev. of 7 runs, 1 loop each)\n"
     ]
    }
   ],
   "source": [
    "%%timeit\n",
    "split_array_numba = split_consecutive_numba(bellow_baseline)"
   ]
  },
  {
   "cell_type": "code",
   "execution_count": 22,
   "id": "80461622",
   "metadata": {},
   "outputs": [
    {
     "name": "stdout",
     "output_type": "stream",
     "text": [
      "26.1 µs ± 51.3 ns per loop (mean ± std. dev. of 7 runs, 10,000 loops each)\n"
     ]
    }
   ],
   "source": [
    "%%timeit\n",
    "split_list = split_consecutive_kindapython(bellow_baseline)"
   ]
  },
  {
   "cell_type": "markdown",
   "id": "bfaa8548",
   "metadata": {},
   "source": [
    "## Count number of pulses in waveform"
   ]
  },
  {
   "cell_type": "code",
   "execution_count": 23,
   "id": "68b284f1",
   "metadata": {},
   "outputs": [
    {
     "name": "stdout",
     "output_type": "stream",
     "text": [
      "10000\n"
     ]
    }
   ],
   "source": [
    "import pandas as pd\n",
    "\n",
    "df = pd.read_hdf('test_df.h5')\n",
    "df = df.iloc[:10000]\n",
    "print(len(df))"
   ]
  },
  {
   "cell_type": "code",
   "execution_count": 24,
   "id": "c449b77f",
   "metadata": {},
   "outputs": [],
   "source": [
    "wf_number_arr = df['wf_number'].values"
   ]
  },
  {
   "cell_type": "code",
   "execution_count": 25,
   "id": "6810f9e4",
   "metadata": {},
   "outputs": [],
   "source": [
    "def how_many1(df: pd.DataFrame) -> pd.DataFrame:\n",
    "    ret = []\n",
    "    waveforms_w_pulses = np.unique(df['wf_number'])\n",
    "    n_waveforms = len(waveforms_w_pulses)\n",
    "    for _wf in waveforms_w_pulses:\n",
    "        n_pulses = len(df[df['wf_number'] == _wf])\n",
    "        ret.append([_wf,n_pulses])\n",
    "    return pd.DataFrame(ret, columns = ['wf_number', 'pulse_count'])\n",
    "\n",
    "def how_many2(wf_number_list: np.ndarray) -> np.ndarray:\n",
    "    waveforms_w_pulses = np.unique(wf_number_list)\n",
    "    n_waveforms = len(waveforms_w_pulses)\n",
    "\n",
    "    N_pulses = np.zeros(n_waveforms)\n",
    "\n",
    "    for i, _wf in enumerate(waveforms_w_pulses):\n",
    "        _n_pulses = np.count_nonzero(wf_number_list == _wf)\n",
    "        N_pulses[i] = _n_pulses\n",
    "    return waveforms_w_pulses, N_pulses\n",
    "\n",
    "@numba.njit\n",
    "def how_many2_numba(wf_number_list: np.ndarray) -> np.ndarray:\n",
    "    waveforms_w_pulses = np.unique(wf_number_list)\n",
    "    n_waveforms = len(waveforms_w_pulses)\n",
    "\n",
    "    N_pulses = np.zeros(n_waveforms)\n",
    "\n",
    "    for i, _wf in enumerate(waveforms_w_pulses):\n",
    "        _n_pulses = np.count_nonzero(wf_number_list == _wf)\n",
    "        N_pulses[i] = _n_pulses\n",
    "    return waveforms_w_pulses, N_pulses\n"
   ]
  },
  {
   "cell_type": "code",
   "execution_count": 26,
   "id": "389e7c99",
   "metadata": {},
   "outputs": [
    {
     "name": "stdout",
     "output_type": "stream",
     "text": [
      "65 ms ± 124 µs per loop (mean ± std. dev. of 7 runs, 10 loops each)\n"
     ]
    }
   ],
   "source": [
    "%%timeit\n",
    "boop = how_many1(df)"
   ]
  },
  {
   "cell_type": "code",
   "execution_count": 27,
   "id": "7d964717",
   "metadata": {},
   "outputs": [
    {
     "name": "stdout",
     "output_type": "stream",
     "text": [
      "1.79 ms ± 4.75 µs per loop (mean ± std. dev. of 7 runs, 1,000 loops each)\n"
     ]
    }
   ],
   "source": [
    "%%timeit\n",
    "beep, boop = how_many2(wf_number_arr)"
   ]
  },
  {
   "cell_type": "code",
   "execution_count": 28,
   "id": "fe9d742d",
   "metadata": {},
   "outputs": [
    {
     "name": "stdout",
     "output_type": "stream",
     "text": [
      "1.05 ms ± 38 µs per loop (mean ± std. dev. of 7 runs, 1 loop each)\n"
     ]
    }
   ],
   "source": [
    "%%timeit\n",
    "beep, boop = how_many2_numba(wf_number_arr)"
   ]
  },
  {
   "cell_type": "markdown",
   "id": "94415e8d",
   "metadata": {},
   "source": [
    "#### some speed plots"
   ]
  },
  {
   "cell_type": "code",
   "execution_count": 29,
   "id": "9473b19f",
   "metadata": {},
   "outputs": [],
   "source": [
    "import time\n",
    "def time_count_process_1(df, n_entries):\n",
    "    \n",
    "    df = df.sample(n_entries, replace = True)\n",
    "    t0 = time.time() \n",
    "    boop = how_many1(df)\n",
    "    t1 = time.time()\n",
    "    t_how_many1 = t1-t0\n",
    "\n",
    "    return t_how_many1\n",
    "\n",
    "\n",
    "def time_count_process_2(df, n_entries):\n",
    "    \n",
    "    df = df.sample(n_entries, replace = True)\n",
    "    t0 = time.time() \n",
    "    wf_number_arr = df['wf_number'].values\n",
    "    boop = how_many2(wf_number_arr)\n",
    "    t1 = time.time()\n",
    "    t_how_many2 = t1-t0\n",
    "    \n",
    "    return t_how_many2\n",
    "\n",
    "\n",
    "def time_count_process_2_numba(df, n_entries):\n",
    "    \n",
    "    df = df.sample(n_entries, replace = True)\n",
    "    t0 = time.time() \n",
    "    wf_number_arr = df['wf_number'].values\n",
    "    beep, boop = how_many2_numba(wf_number_arr)\n",
    "    t1 = time.time()\n",
    "    t_how_many2_numba = t1-t0\n",
    "    \n",
    "    return t_how_many2_numba"
   ]
  },
  {
   "cell_type": "code",
   "execution_count": 30,
   "id": "d9755a79",
   "metadata": {},
   "outputs": [],
   "source": [
    "_x = np.logspace(1,6,20)\n",
    "t_1 = [time_count_process_1(df, int(_n)) for _n in _x]\n",
    "t_2 = [time_count_process_2(df, int(_n)) for _n in _x]\n",
    "t_2_numba = [time_count_process_2_numba(df, int(_n)) for _n in _x]"
   ]
  },
  {
   "cell_type": "code",
   "execution_count": 31,
   "id": "7fba5f17",
   "metadata": {},
   "outputs": [
    {
     "data": {
      "image/png": "[encoded data removed]",
      "text/plain": [
       "<Figure size 720x420 with 1 Axes>"
      ]
     },
     "metadata": {
      "needs_background": "light"
     },
     "output_type": "display_data"
    }
   ],
   "source": [
    "import matplotlib.pyplot as plt\n",
    "plt.figure(figsize = (12,7),dpi = 60)\n",
    "plt.plot(_x, t_1, marker = 'o', label = 'how_many_1')\n",
    "plt.plot(_x, t_2, marker = 's', label = 'how_many_2')\n",
    "plt.plot(_x, t_2_numba, marker = '^', label = 'how_many_2_numba')\n",
    "\n",
    "plt.legend()\n",
    "plt.yscale('log')\n",
    "plt.xscale('log')\n",
    "plt.show()"
   ]
  },
  {
   "cell_type": "code",
   "execution_count": null,
   "id": "67e8e6ab",
   "metadata": {},
   "outputs": [],
   "source": []
  }
 ],
 "metadata": {
  "kernelspec": {
   "display_name": "Python 3 (ipykernel)",
   "language": "python",
   "name": "python3"
  },
  "language_info": {
   "codemirror_mode": {
    "name": "ipython",
    "version": 3
   },
   "file_extension": ".py",
   "mimetype": "text/x-python",
   "name": "python",
   "nbconvert_exporter": "python",
   "pygments_lexer": "ipython3",
   "version": "3.8.13"
  }
 },
 "nbformat": 4,
 "nbformat_minor": 5
}
